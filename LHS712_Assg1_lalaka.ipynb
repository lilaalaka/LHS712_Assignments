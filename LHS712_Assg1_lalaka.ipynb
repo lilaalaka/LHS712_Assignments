{
 "cells": [
  {
   "cell_type": "code",
   "execution_count": 107,
   "id": "bcf48d6d-b22d-475c-a55a-e099365d0e27",
   "metadata": {},
   "outputs": [],
   "source": [
    "import datetime"
   ]
  },
  {
   "cell_type": "code",
   "execution_count": 108,
   "id": "5e347657-bcc4-4bfa-9da0-ad4ecf4a89ff",
   "metadata": {},
   "outputs": [],
   "source": [
    "#dir(datetime)"
   ]
  },
  {
   "cell_type": "code",
   "execution_count": 85,
   "id": "5be48e0c-57e9-4e8e-b151-f2cd54dea587",
   "metadata": {},
   "outputs": [],
   "source": [
    "from datetime import date"
   ]
  },
  {
   "cell_type": "code",
   "execution_count": 110,
   "id": "64cd9cf4-e7c4-4177-8b1e-0e47c1d9bb1d",
   "metadata": {},
   "outputs": [
    {
     "name": "stdout",
     "output_type": "stream",
     "text": [
      "2022-02-07\n"
     ]
    }
   ],
   "source": [
    "dt = date(2022,2,7)\n",
    "print(dt)"
   ]
  },
  {
   "cell_type": "code",
   "execution_count": 9,
   "id": "5de3c3d8-7c98-4fb1-b64d-1849b10653e2",
   "metadata": {},
   "outputs": [],
   "source": [
    "import re"
   ]
  },
  {
   "cell_type": "code",
   "execution_count": 10,
   "id": "41f7346c-26a3-46e8-b5c6-4b730bb0f5a3",
   "metadata": {},
   "outputs": [],
   "source": [
    "#dir(re)"
   ]
  },
  {
   "cell_type": "code",
   "execution_count": 112,
   "id": "7983b9d3-f011-4ee5-b8cf-c2aa251f1f8a",
   "metadata": {},
   "outputs": [],
   "source": [
    "#exploring how the re package worked\n",
    "note = '0\tymethylprednisolone - agitation, paradoxical dyspnea : 8/2005'\n",
    "note2 = '0\ttested on Oct 2020 morning'"
   ]
  },
  {
   "cell_type": "code",
   "execution_count": 113,
   "id": "14de1748-baa3-4066-a614-d8f48e15a8a4",
   "metadata": {},
   "outputs": [
    {
     "name": "stdout",
     "output_type": "stream",
     "text": [
      "<re.Match object; span=(12, 20), match='Oct 2020'>\n"
     ]
    }
   ],
   "source": [
    "match = re.search('(Jan|Feb|Mar|Apr|May|Jun|Jul|Aug|Sep|Oct|Nov|Dec) \\d{2,4}', note2)\n",
    "print(match)"
   ]
  },
  {
   "cell_type": "code",
   "execution_count": 114,
   "id": "5a5d1aa8-32af-4a5f-9d7c-689ea9f3d747",
   "metadata": {},
   "outputs": [
    {
     "name": "stdout",
     "output_type": "stream",
     "text": [
      "None\n"
     ]
    }
   ],
   "source": [
    "match = re.search('\\d{1,2}[/-]\\d{1,2}[/-]\\d{2,4}', note)\n",
    "print(match)"
   ]
  },
  {
   "cell_type": "code",
   "execution_count": 115,
   "id": "84ba9f2c-ba17-4f1e-916b-834a36a9377b",
   "metadata": {},
   "outputs": [
    {
     "name": "stdout",
     "output_type": "stream",
     "text": [
      "<re.Match object; span=(57, 63), match='8/2005'>\n"
     ]
    }
   ],
   "source": [
    "match = re.search('\\d{1,2}[/-]\\d{2,4}', note)\n",
    "print(match)"
   ]
  },
  {
   "cell_type": "code",
   "execution_count": 38,
   "id": "14e054d2-4a7c-403f-99a2-68f1ba072990",
   "metadata": {},
   "outputs": [
    {
     "data": {
      "text/plain": [
       "12"
      ]
     },
     "execution_count": 38,
     "metadata": {},
     "output_type": "execute_result"
    }
   ],
   "source": [
    "#building months dictionary\n",
    "months = {'Jan':1, 'January':1, 'Feb':2, 'February':2, 'Mar':3, 'Marc':3, 'March':3, 'Apr':4, 'April':4, 'May':5, 'Jun':6, 'June':6, 'Jul':7, 'July':7, 'Aug':8, 'August':8, 'Sep':9, 'September':9, 'Oct':10, 'October':10, 'Nov':11, 'November':11, 'Dec':12, 'December':12, 'Decemeber':12}\n",
    "\n",
    "month = 'Dec'\n",
    "months[month]"
   ]
  },
  {
   "cell_type": "code",
   "execution_count": 121,
   "id": "af91d216-8274-42c7-931d-b7568d0f691b",
   "metadata": {},
   "outputs": [
    {
     "name": "stdout",
     "output_type": "stream",
     "text": [
      "2022-02-10\n"
     ]
    }
   ],
   "source": [
    "#shifting the date by #days using timedelta\n",
    "today = date(2022, 2, 10)\n",
    "print(today)"
   ]
  },
  {
   "cell_type": "code",
   "execution_count": 122,
   "id": "c4a23b83-7e5d-4cf6-9d09-686c5b2e3b2a",
   "metadata": {},
   "outputs": [],
   "source": [
    "from datetime import timedelta"
   ]
  },
  {
   "cell_type": "code",
   "execution_count": 123,
   "id": "8d7452e3-bfc4-48fe-b7ad-f7e584176549",
   "metadata": {},
   "outputs": [
    {
     "name": "stdout",
     "output_type": "stream",
     "text": [
      "2022-03-22\n"
     ]
    }
   ],
   "source": [
    "today_shifted = today + timedelta(days = 40)\n",
    "print(today_shifted)"
   ]
  },
  {
   "cell_type": "code",
   "execution_count": 124,
   "id": "762d0e30-9d89-4562-8cac-ca8c9e48a279",
   "metadata": {},
   "outputs": [],
   "source": [
    "#line 285 match error\n",
    "#line 422 match error\n",
    "#line 127 has a mis-spelled month - included in the options for written months"
   ]
  },
  {
   "cell_type": "code",
   "execution_count": 68,
   "id": "83b73c06-e18f-47ef-8e4e-bb50da717b1a",
   "metadata": {},
   "outputs": [],
   "source": [
    "# the function below find_dates takes a .txt file as input and searches for 1 date per line \n",
    "# and outputs the line index and normalized date to a new file; the function will also shift each\n",
    "# date by 40 days and return this shifted date for each line\n",
    "\n",
    "def find_dates(filename):\n",
    "    import re\n",
    "    from datetime import date\n",
    "    from datetime import timedelta\n",
    "    \n",
    "    output_file = open('LHS712_Assg1_lalaka.txt', 'w')\n",
    "    months = {'Jan':1, 'January':1, 'Feb':2, 'February':2, 'Mar':3, 'Marc':3, 'March':3, 'Apr':4, 'April':4, 'May':5, 'Jun':6, 'June':6, 'Jul':7, 'July':7, 'Aug':8, 'August':8, 'Sep':9, 'September':9, 'Oct':10, 'October':10, 'Nov':11, 'November':11, 'Dec':12, 'December':12, 'Decemeber':12}\n",
    "    months_refrmt = {1:'Jan', 2:'Feb', 3:'March', 4:'April', 5:'May', 6:'June', 7:'July', 8:'August', 9:'Sep', 10:'Oct', 11:'Nov', 12:'Dec'}\n",
    "    \n",
    "    with open(filename, 'r') as file:\n",
    "        for line in file:   \n",
    "            # get line id\n",
    "            id_search = re.search('\\d{,3}', line)\n",
    "            id = id_search.group(0)\n",
    "            \n",
    "            # find date:\n",
    "            # dd/mm/yyyy or dd-mm-yyyy or yy instead of yyyy\n",
    "            match = re.search('\\d{1,2}[/-]\\d{1,2}[/-]\\d{2,4}', line)\n",
    "            \n",
    "            if match == None:\n",
    "                # dd/yyyy or dd-yyyy or with yy instead of yyyy\n",
    "                match = re.search('\\d{1,2}[/-]\\d{2,4}', line)\n",
    "                \n",
    "                if match == None:\n",
    "                    # dd month yyyy (or yy)\n",
    "                    match = re.search('\\d{1,2} (Jan|January|Feb|February|Mar|Marc|March|Apr|April|May|Jun|June|Jul|July|Aug|August|Sep|September|Oct|October|Nov|November|Dec|December|Decemeber) \\d{2,4}', line)\n",
    "                    \n",
    "                    if match == None:\n",
    "                        # month. or month, or month dd. dd, or dd yyyy or yy\n",
    "                        match = re.search('(Jan|January|Feb|February|Mar|Marc|March|Apr|April|May|Jun|June|Jul|July|Aug|August|Sep|September|Oct|October|Nov|November|Dec|December|Decemeber)[.,]? \\d{1,2}[.,]? \\d{2,4}', line)\n",
    "                        \n",
    "                        if match == None:\n",
    "                            # month[,. ] yyyy or yy\n",
    "                            match = re.search('(Jan|January|Feb|February|Mar|Marc|March|Apr|April|May|Jun|June|Jul|July|Aug|August|Sep|September|Oct|October|Nov|November|Dec|December|Decemeber)[.,]? \\d{4}', line)\n",
    "                            \n",
    "                            if match == None:\n",
    "                                # yyyy alone\n",
    "                                match = re.search(' \\d{4}', line)\n",
    "                                \n",
    "                                if match != None:\n",
    "                                    match = match.group(0)\n",
    "                                    month = 1\n",
    "                                    day = 1\n",
    "                                    year = int(match.strip())\n",
    "                                    d = date(year, month, day)\n",
    "                                    d_shifted = d + timedelta(days = 40)\n",
    "                                    orig_frmt = str(d_shifted.year)\n",
    "                                    output_file.write(id + '\\t' + str(d) + '\\t' + str(d_shifted) + '\\t' + orig_frmt + '\\n')\n",
    "\n",
    "                                else:\n",
    "                                    # (yyyy) only\n",
    "                                    match = re.search('(\\d{4})', line)\n",
    "                                    match = match.group(0).strip('(').strip(')')\n",
    "                                    month = 1\n",
    "                                    day = 1\n",
    "                                    year = int(match)\n",
    "                                    d = date(year, month, day)\n",
    "                                    d_shifted = d + timedelta(days = 40)\n",
    "                                    orig_frmt = '(' + str(d_shifted.year) + ')'\n",
    "                                    output_file.write(id + '\\t' + str(d) + '\\t' + str(d_shifted) + '\\t' + orig_frmt + '\\n')\n",
    "    \n",
    "                            else:\n",
    "                                match = match.group(0)\n",
    "                \n",
    "                                if '.' in match:\n",
    "                                    day = 1\n",
    "                                    month = months[match.split('.')[0]]\n",
    "                                    year = int(match.split(' ')[1])\n",
    "                                    if len(str(year)) == 2:\n",
    "                                        year = '19' + str(year)\n",
    "                                        year = int(year)                        \n",
    "                                    d = date(year, month, day)\n",
    "                                    d_shifted = d + timedelta(days = 40)\n",
    "                                    orig_frmt = months_refrmt[d_shifted.month] + '. ' + str(d_shifted.year)\n",
    "                                    output_file.write(id + '\\t' + str(d) + '\\t' + str(d_shifted) + '\\t' + orig_frmt + '\\n')\n",
    "\n",
    "                                if ',' in match:\n",
    "                                    day = 1\n",
    "                                    month = months[match.split(',')[0]]\n",
    "                                    year = int(match.split(' ')[1])\n",
    "                                    if len(str(year)) == 2:\n",
    "                                        year = '19' + str(year)\n",
    "                                        year = int(year)                   \n",
    "                                    d = date(year, month, day)\n",
    "                                    d_shifted = d + timedelta(days = 40)\n",
    "                                    orig_frmt = months_refrmt[d_shifted.month] + ', ' + str(d_shifted.year)\n",
    "                                    output_file.write(id + '\\t' + str(d) + '\\t' + str(d_shifted) + '\\t' + orig_frmt + '\\n')\n",
    "\n",
    "                                else:\n",
    "                                    #september 2009\n",
    "                                    day = 1\n",
    "                                    month = months[match.split(' ')[0]]\n",
    "                                    year = int(match.split(' ')[1])\n",
    "                                    if len(str(year)) == 2:\n",
    "                                        year = '19' + str(year)\n",
    "                                        year = int(year)                    \n",
    "                                    d = date(year, month, day)\n",
    "                                    d_shifted = d + timedelta(days = 40)\n",
    "                                    orig_frmt = months_refrmt[d_shifted.month] + ' ' + str(d_shifted.year)\n",
    "                                    output_file.write(id + '\\t' + str(d) + '\\t' + str(d_shifted) + '\\t' + orig_frmt + '\\n')\n",
    "\n",
    "                        else: \n",
    "                            match = match.group(0)\n",
    "\n",
    "                            if '.' in match:\n",
    "                                month = months[match.split('.')[0]]\n",
    "                                if ',' in match.split('.')[1]:\n",
    "                                    day = int(match.split('.')[1].split(', ')[0])\n",
    "                                    year = int(match.split('.')[1].split(', ')[1])\n",
    "                                    if len(str(year)) == 2:\n",
    "                                        year = '19' + str(year)\n",
    "                                        year = int(year)                     \n",
    "                                    d = date(year, month, day)\n",
    "                                    d_shifted = d + timedelta(days = 40)\n",
    "                                    orig_frmt = months_refrmt[d_shifted.month] + '. ' + str(d_shifted.day) + ', ' + str(d_shifted.year)\n",
    "                                    output_file.write(id + '\\t' + str(d) + '\\t' + str(d_shifted) + '\\t' + orig_frmt + '\\n')\n",
    "                            \n",
    "                            else:\n",
    "                                month = months[match.split(' ')[0]]\n",
    "                                if ',' in match:\n",
    "                                    day = int(match.split(', ')[0].split(' ')[1])\n",
    "                                    year = int(match.split(', ')[1])\n",
    "                                    if len(str(year)) == 2:\n",
    "                                        year = '19' + str(year)\n",
    "                                        year = int(year)                           \n",
    "                                    d = date(year, month, day)\n",
    "                                    d_shifted = d + timedelta(days = 40)\n",
    "                                    orig_frmt = months_refrmt[d_shifted.month] + ' ' + str(d_shifted.day) + ', ' + str(d_shifted.year)\n",
    "                                    output_file.write(id + '\\t' + str(d) + '\\t' + str(d_shifted) + '\\t' + orig_frmt + '\\n')\n",
    "                                    \n",
    "                                else:\n",
    "                                    day = int(match.split(' ')[1])\n",
    "                                    year = int(match.split(' ')[2])\n",
    "                                    if len(str(year)) == 2:\n",
    "                                        year = '19' + str(year)\n",
    "                                        year = int(year)     \n",
    "                                    d = date(year, month, day)\n",
    "                                    d_shifted = d + timedelta(days = 40)\n",
    "                                    orig_frmt = months_refrmt[d_shifted.month] + ' ' + str(d_shifted.day) + ' ' + str(d_shifted.year)\n",
    "                                    output_file.write(id + '\\t' + str(d) + '\\t' + str(d_shifted) + '\\t' + orig_frmt + '\\n')\n",
    "                                    \n",
    "                    else:\n",
    "                        match = match.group(0)\n",
    "                        day = int(match.split(' ')[0])\n",
    "                        month = months[match.split(' ')[1]]\n",
    "                        year = int(match.split(' ')[2])\n",
    "                        if len(str(year)) == 2:\n",
    "                            year = '19' + str(year)\n",
    "                            year = int(year)          \n",
    "                        d = date(year, month, day)\n",
    "                        d_shifted = d + timedelta(days = 40)\n",
    "                        orig_frmt = str(d_shifted.day) + ' ' + months_refrmt[d_shifted.month] + ' ' + str(d_shifted.year)\n",
    "                        output_file.write(id + '\\t' + str(d) + '\\t' + str(d_shifted) + '\\t' + orig_frmt + '\\n')\n",
    "\n",
    "                else:\n",
    "                    match = match.group(0)\n",
    "\n",
    "                    if '/' in match:\n",
    "                        day = 1\n",
    "                        month = int(match.split('/')[0])\n",
    "                        year = int(match.split('/')[1])\n",
    "                        if len(str(year)) == 2:\n",
    "                            year = '19' + str(year)\n",
    "                            year = int(year)    \n",
    "                        if month < 13:\n",
    "                            d = date(year, month, day)\n",
    "                            d_shifted = d + timedelta(days = 40)\n",
    "                            orig_frmt = str(d_shifted.month) + '/' + str(d_shifted.year)\n",
    "                            output_file.write(id + '\\t' + str(d) + '\\t' + str(d_shifted) + '\\t' + orig_frmt + '\\n')\n",
    "\n",
    "                    if '-' in match:\n",
    "                        day = 1\n",
    "                        month = int(match.split('-')[0])\n",
    "                        year = int(match.split('-')[1])\n",
    "                        if len(str(year)) == 2:\n",
    "                            year = '19' + str(year)\n",
    "                            year = int(year)\n",
    "                        if month < 13:\n",
    "                            d = date(year, month, day)\n",
    "                            d_shifted = d + timedelta(days = 40)\n",
    "                            orig_frmt = str(d_shifted.month) + '-' + str(d_shifted.year)\n",
    "                            output_file.write(id + '\\t' + str(d) + '\\t' + str(d_shifted) + '\\t' + orig_frmt + '\\n')\n",
    "\n",
    "            else:\n",
    "                match = match.group(0)\n",
    "\n",
    "                if '/' in match:\n",
    "                    month = int(match.split('/')[0])\n",
    "                    day = int(match.split('/')[1])\n",
    "                    year = int(match.split('/')[2])\n",
    "                    if len(str(year)) == 2:\n",
    "                        year = '19' + str(year)\n",
    "                        year = int(year)\n",
    "                    if month < 13:\n",
    "                        d = date(year, month, day)\n",
    "                        d_shifted = d + timedelta(days = 40)\n",
    "                        orig_frmt = str(d_shifted.month) + '/' + str(d_shifted.day) + '/' + str(d_shifted.year)\n",
    "                        output_file.write(id + '\\t' + str(d) + '\\t' + str(d_shifted) + '\\t' + orig_frmt + '\\n')\n",
    "\n",
    "                if '-' in match:\n",
    "                    month = int(match.split('-')[0])\n",
    "                    day = int(match.split('-')[1])\n",
    "                    year = int(match.split('-')[2])\n",
    "                    # if the year is 2-digit assume 19-- and fix it\n",
    "                    if len(str(year)) == 2:\n",
    "                        year = '19' + str(year)\n",
    "                        year = int(year)\n",
    "                    if month < 13:\n",
    "                        d = date(year, month, day)\n",
    "                        d_shifted = d + timedelta(days = 40)\n",
    "                        orig_frmt = str(d_shifted.month) + '-' + str(d_shifted.day) + '-' + str(d_shifted.year)\n",
    "                        output_file.write(id + '\\t' + str(d) + '\\t' + str(d_shifted) + '\\t' + orig_frmt + '\\n')\n",
    "    \n",
    "    #close output file\n",
    "    output_file.close()\n"
   ]
  },
  {
   "cell_type": "code",
   "execution_count": 69,
   "id": "944247f5-b686-4485-9cd3-7a48f22cc111",
   "metadata": {},
   "outputs": [],
   "source": [
    "find_dates('dates.txt')"
   ]
  },
  {
   "cell_type": "code",
   "execution_count": 73,
   "id": "284dff48-3bed-44af-b7a2-4991bc7c61a6",
   "metadata": {},
   "outputs": [],
   "source": [
    "# testing with a handful of dates\n",
    "# find_dates('dates_test.txt')"
   ]
  },
  {
   "cell_type": "code",
   "execution_count": 64,
   "id": "ab7fac56-3492-48ba-944a-d2ddd3575227",
   "metadata": {},
   "outputs": [
    {
     "name": "stdout",
     "output_type": "stream",
     "text": [
      "2022-02-15\n"
     ]
    }
   ],
   "source": [
    "# testing strategies for the optional task\n",
    "\n",
    "from datetime import date\n",
    "from datetime import timedelta\n",
    "\n",
    "#date format: 2/15/2022\n",
    "year = 2022\n",
    "month = 2\n",
    "day = 15\n",
    "\n",
    "td = date(year, month, day)\n",
    "print(td)"
   ]
  },
  {
   "cell_type": "code",
   "execution_count": 65,
   "id": "3c38571b-effb-4601-b8c8-b449958626d7",
   "metadata": {},
   "outputs": [
    {
     "name": "stdout",
     "output_type": "stream",
     "text": [
      "2022-03-27\n"
     ]
    }
   ],
   "source": [
    "td_shft = td + timedelta(days=40)\n",
    "print(td_shft)"
   ]
  },
  {
   "cell_type": "code",
   "execution_count": 66,
   "id": "14a0ac2f-5961-4efe-b25a-e6c4f458eada",
   "metadata": {},
   "outputs": [
    {
     "data": {
      "text/plain": [
       "3"
      ]
     },
     "execution_count": 66,
     "metadata": {},
     "output_type": "execute_result"
    }
   ],
   "source": [
    "td_shft.month"
   ]
  },
  {
   "cell_type": "code",
   "execution_count": 67,
   "id": "fa9358e9-87fc-431a-a439-dff166b1a424",
   "metadata": {},
   "outputs": [
    {
     "name": "stdout",
     "output_type": "stream",
     "text": [
      "3/27/2022\n"
     ]
    }
   ],
   "source": [
    "shft_frmt = str(td_shft.month) + '/' + str(td_shft.day) + '/' + str(td_shft.year)\n",
    "print(shft_frmt)"
   ]
  },
  {
   "cell_type": "code",
   "execution_count": null,
   "id": "6d563ceb-e8cc-4775-84f9-759b7b09ed43",
   "metadata": {},
   "outputs": [],
   "source": []
  }
 ],
 "metadata": {
  "kernelspec": {
   "display_name": "Python 3 (ipykernel)",
   "language": "python",
   "name": "python3"
  },
  "language_info": {
   "codemirror_mode": {
    "name": "ipython",
    "version": 3
   },
   "file_extension": ".py",
   "mimetype": "text/x-python",
   "name": "python",
   "nbconvert_exporter": "python",
   "pygments_lexer": "ipython3",
   "version": "3.9.7"
  }
 },
 "nbformat": 4,
 "nbformat_minor": 5
}
