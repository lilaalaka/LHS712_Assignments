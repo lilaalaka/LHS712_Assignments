{
 "cells": [
  {
   "cell_type": "code",
   "execution_count": 2,
   "id": "bc96459a-7b08-421f-a153-ad495b4628f0",
   "metadata": {},
   "outputs": [],
   "source": [
    "import numpy as np    \n",
    "import pandas as pd"
   ]
  },
  {
   "cell_type": "code",
   "execution_count": 3,
   "id": "90905b1c-c08f-47ca-9517-01cc9d039194",
   "metadata": {},
   "outputs": [],
   "source": [
    "train_data = pd.read_csv('wn22_PA_training_labels.txt')\n",
    "#print(train_data)"
   ]
  },
  {
   "cell_type": "code",
   "execution_count": 4,
   "id": "d4616a10-304e-456d-a95d-42386c5e2d12",
   "metadata": {},
   "outputs": [],
   "source": [
    "train_labels = train_data.loc[:,'Label']\n",
    "#print(train_labels)\n",
    "# Pandas series"
   ]
  },
  {
   "cell_type": "code",
   "execution_count": 5,
   "id": "db17e891-fc6b-49bb-ab24-38a25077b75c",
   "metadata": {},
   "outputs": [],
   "source": [
    "train_tweet_data = pd.read_csv('train_tweets_cleaned.txt')\n",
    "#print(train_tweet_data)"
   ]
  },
  {
   "cell_type": "code",
   "execution_count": 6,
   "id": "4e5f865c-347d-4f42-a50a-8947ec449ec1",
   "metadata": {},
   "outputs": [],
   "source": [
    "train_tweets = train_tweet_data.loc[:,'Tweet']\n",
    "#print(train_tweets)"
   ]
  },
  {
   "cell_type": "code",
   "execution_count": 7,
   "id": "91188809-2e98-4124-9393-3b1735684d1d",
   "metadata": {},
   "outputs": [],
   "source": [
    "test_tweet_data = pd.read_csv('test_tweets_cleaned.txt')\n",
    "#print(test_tweet_data)"
   ]
  },
  {
   "cell_type": "code",
   "execution_count": 8,
   "id": "7d9fb9f9-63d9-4751-93a2-4937049cf43c",
   "metadata": {},
   "outputs": [],
   "source": [
    "test_tweets = test_tweet_data.loc[:,'Tweet']\n",
    "#print(test_tweets)"
   ]
  },
  {
   "cell_type": "code",
   "execution_count": 11,
   "id": "b4663d17-1fba-4b14-a957-2ca981dcb449",
   "metadata": {},
   "outputs": [
    {
     "data": {
      "text/plain": [
       "0              @_jillbethename HE WENT BOWLING WITH THEM\n",
       "1      Time is running out on your dreams, or so it f...\n",
       "2      Ran 2km today with my girl _____՟ @angelicaleigh_\n",
       "3      _ Saturday Morning Fitness _\\n\\n9:30am, 3, Hol...\n",
       "4       @kyllis327 how's the ol' diaper bag working out?\n",
       "                             ...                        \n",
       "795    #LyricsILIKETOSCREAM .... COME OUT OF THE CAVE...\n",
       "796    #MESDetroit \\n\\n-$10,000 Prize Pool\\n-PlayStat...\n",
       "797    I have the #2 pick in my fantasy basketball le...\n",
       "798    @karlravechespn seem more mental mistakes and ...\n",
       "799                Lil kids football camp In the morning\n",
       "Name: Tweet, Length: 800, dtype: object"
      ]
     },
     "execution_count": 11,
     "metadata": {},
     "output_type": "execute_result"
    }
   ],
   "source": [
    "test_tweets"
   ]
  },
  {
   "cell_type": "code",
   "execution_count": 12,
   "id": "b05a589b-0e4a-4cd1-8177-d57de5b89388",
   "metadata": {},
   "outputs": [],
   "source": [
    "# This function below will clean and preprocess a series of tweets\n",
    "\n",
    "def preprocess_tweets(tweet_series):\n",
    "    import re\n",
    "    import emoji\n",
    "    import nltk\n",
    "    from nltk.tokenize import word_tokenize\n",
    "    from nltk.corpus import stopwords\n",
    "    #nltk.download('stopwords')\n",
    "    from nltk.stem.porter import PorterStemmer\n",
    "    \n",
    "    # Initialize cleaned tweets list\n",
    "    tweets_cleaned = []\n",
    "    \n",
    "    for i in range(len(tweet_series)):\n",
    "        tweet = tweet_series[i]\n",
    "        \n",
    "        # Make all lowercase for easy processing\n",
    "        tweet = tweet.lower()\n",
    "        \n",
    "        # Remove @ mentions\n",
    "        tweet = re.sub(\"@[A-Za-z0-9_]+\",\"\", tweet)\n",
    "        # Remove # but keep word\n",
    "        tweet = tweet.replace(\"#\", \"\") #.replace(\"_\", \" \")\n",
    "        \n",
    "        # Remove links\n",
    "        tweet = re.sub(r\"http\\S+\", \"\", tweet)\n",
    "        tweet = re.sub(r\"www.\\S+\", \"\", tweet)\n",
    "        \n",
    "        # Remove punctuation marks\n",
    "        tweet = re.sub('[()!?]', ' ', tweet)\n",
    "        tweet = re.sub('\\[.*?\\]',' ', tweet)\n",
    "        \n",
    "        # Remove emojis and all characters expect for alphabet and numbers\n",
    "        tweet = word_tokenize(tweet)\n",
    "        tweet = ' '.join(w for w in tweet if w not in emoji.UNICODE_EMOJI)\n",
    "        tweet = re.sub(\"[^a-z0-9]\",\" \", tweet)\n",
    "        \n",
    "        # Tokenize to stem and remove stopwords\n",
    "        tweet = word_tokenize(tweet)           \n",
    "        from nltk.stem.snowball import SnowballStemmer\n",
    "        snow_stemmer = SnowballStemmer(language='english')\n",
    "        def snow_stem(tweet):\n",
    "            stem = [snow_stemmer.stem(word) for word in tweet]\n",
    "            return stem\n",
    "        tweet = snow_stem(tweet)\n",
    "        tweet = ' '.join([word for word in tweet if not word in stopwords.words('english')])\n",
    "        \n",
    "        #print(tweet)     \n",
    "        tweets_cleaned.append(tweet)\n",
    "        \n",
    "        # Stemming\n",
    "        #stemmer = PorterStemmer()\n",
    "        #def stemming(tweet):\n",
    "        #    stem = [stemmer.stem(word) for word in tweet]\n",
    "        #    return stem\n",
    "        #tweet = stemming(tweet)\n",
    "        \n",
    "        #nltk.download('wordnet')\n",
    "        #from nltk.stem import WordNetLemmatizer\n",
    "        #lemmatizer = WordNetLemmatizer()\n",
    "        #lemmatized_output = ' '.join([lemmatizer.lemmatize(w) for w in tweet])\n",
    "        \n",
    "    return tweets_cleaned"
   ]
  },
  {
   "cell_type": "code",
   "execution_count": 12,
   "id": "793ba401-e4e9-4fb1-8ba7-7b60fe889364",
   "metadata": {},
   "outputs": [],
   "source": [
    "# Preprocess the train and test tweets\n",
    "\n",
    "train_tweets_clean = preprocess_tweets(train_tweets)\n",
    "test_tweets_clean = preprocess_tweets(test_tweets)"
   ]
  },
  {
   "cell_type": "code",
   "execution_count": 646,
   "id": "b02a5766-a47b-476f-9e22-3f5ca1ee0c19",
   "metadata": {},
   "outputs": [],
   "source": [
    "from sklearn.model_selection import train_test_split\n",
    "\n",
    "X = train_tweets_clean\n",
    "Y = train_labels\n",
    "\n",
    "from sklearn.feature_extraction.text import TfidfVectorizer\n",
    "\n",
    "tfidf_vec = TfidfVectorizer(stop_words='english')\n",
    "X = tfidf_vec.fit_transform(X)\n",
    "\n",
    "X_training, X_validation, Y_training, Y_validation = train_test_split(X,Y,random_state=500)"
   ]
  },
  {
   "cell_type": "code",
   "execution_count": 647,
   "id": "a2056f5d-dcf2-4a00-8297-a1a46dc34903",
   "metadata": {},
   "outputs": [
    {
     "name": "stdout",
     "output_type": "stream",
     "text": [
      "f1 score MACRO: \n",
      "0.6698065299648414\n",
      "f1 score MICRO: \n",
      "0.76125\n",
      "\n",
      "\n",
      "Confusion matrix, without normalization\n"
     ]
    },
    {
     "data": {
      "image/png": "[encoded data removed]",
      "text/plain": [
       "<Figure size 432x288 with 2 Axes>"
      ]
     },
     "metadata": {
      "needs_background": "light"
     },
     "output_type": "display_data"
    }
   ],
   "source": [
    "# Random Forest Classifier\n",
    "\n",
    "rf_model = RandomForestClassifier(random_state=500)\n",
    "rf_model.fit(X_training, Y_training)\n",
    "rf_pred = rf_model.predict(X_validation)\n",
    "\n",
    "print('f1 score MACRO: ')\n",
    "print(f1_score(Y_validation, rf_pred, average='macro'))\n",
    "print('f1 score MICRO: ')\n",
    "print(f1_score(Y_validation, rf_pred, average='micro'))\n",
    "print('\\n')\n",
    "\n",
    "classes=list(set(Y_validation))\n",
    "cm = confusion_matrix(Y_validation, rf_pred, labels=classes)\n",
    "plot_confusion_matrix(cm, classes=classes, title='RF')\n"
   ]
  },
  {
   "cell_type": "code",
   "execution_count": 654,
   "id": "2d9d660d-3ede-4e9a-9fc8-ef51cc282712",
   "metadata": {},
   "outputs": [
    {
     "name": "stdout",
     "output_type": "stream",
     "text": [
      "f1 score MACRO: \n",
      "0.604441748932553\n",
      "f1 score MICRO: \n",
      "0.74625\n",
      "\n",
      "\n",
      "Confusion matrix, without normalization\n"
     ]
    },
    {
     "data": {
      "image/png": "[encoded data removed]",
      "text/plain": [
       "<Figure size 432x288 with 2 Axes>"
      ]
     },
     "metadata": {
      "needs_background": "light"
     },
     "output_type": "display_data"
    }
   ],
   "source": [
    "# SVM\n",
    "\n",
    "svm_model = svm.SVC(random_state=2000)\n",
    "svm_model.fit(X_training, Y_training)\n",
    "svm_pred = svm_model.predict(X_validation)\n",
    "\n",
    "print('f1 score MACRO: ')\n",
    "print(f1_score(Y_validation, svm_pred, average='macro'))\n",
    "print('f1 score MICRO: ')\n",
    "print(f1_score(Y_validation, svm_pred, average='micro'))\n",
    "print('\\n')\n",
    "\n",
    "classes=list(set(Y_validation))\n",
    "cm = confusion_matrix(Y_validation, svm_pred, labels=classes)\n",
    "plot_confusion_matrix(cm, classes=classes, title='SVM')\n"
   ]
  },
  {
   "cell_type": "code",
   "execution_count": 655,
   "id": "fd7bf5e3-a2b3-426b-b0a5-3644b07f659e",
   "metadata": {},
   "outputs": [
    {
     "name": "stdout",
     "output_type": "stream",
     "text": [
      "f1 score MACRO: \n",
      "0.6958697334421718\n",
      "f1 score MICRO: \n",
      "0.75375\n",
      "\n",
      "\n",
      "Confusion matrix, without normalization\n"
     ]
    },
    {
     "data": {
      "image/png": "[encoded data removed]",
      "text/plain": [
       "<Figure size 432x288 with 2 Axes>"
      ]
     },
     "metadata": {
      "needs_background": "light"
     },
     "output_type": "display_data"
    }
   ],
   "source": [
    "from sklearn.svm import LinearSVC\n",
    "svc_model = LinearSVC(random_state=500)\n",
    "svc_model.fit(X_training,Y_training)\n",
    "\n",
    "Y_pred = svc_model.predict(X_validation)\n",
    "\n",
    "print('f1 score MACRO: ')\n",
    "print(f1_score(Y_validation, Y_pred, average='macro'))\n",
    "print('f1 score MICRO: ')\n",
    "print(f1_score(Y_validation, Y_pred, average='micro'))\n",
    "print('\\n')\n",
    "\n",
    "classes=list(set(Y_validation))\n",
    "cm = confusion_matrix(Y_validation, Y_pred, labels=classes)\n",
    "plot_confusion_matrix(cm, classes=classes, title='SVM')"
   ]
  },
  {
   "cell_type": "code",
   "execution_count": 443,
   "id": "ea89c5c8-8afa-46cb-97bc-cf1ed47446ff",
   "metadata": {},
   "outputs": [
    {
     "data": {
      "image/png": "[encoded data removed]",
      "text/plain": [
       "<Figure size 864x720 with 1 Axes>"
      ]
     },
     "metadata": {
      "needs_background": "light"
     },
     "output_type": "display_data"
    }
   ],
   "source": [
    "from nltk import FreqDist\n",
    "from wordcloud import WordCloud\n",
    "#Frequency of words\n",
    "fdist = FreqDist(train_tweets_clean)\n",
    "#WordCloud\n",
    "wc = WordCloud(width=800, height=400, max_words=25).generate_from_frequencies(fdist)\n",
    "plt.figure(figsize=(12,10))\n",
    "plt.imshow(wc, interpolation=\"bilinear\")\n",
    "plt.axis(\"off\")\n",
    "plt.show()"
   ]
  },
  {
   "cell_type": "code",
   "execution_count": 239,
   "id": "6b67a418-614e-4017-939b-7fd4646e5000",
   "metadata": {
    "jupyter": {
     "source_hidden": true
    },
    "tags": []
   },
   "outputs": [],
   "source": [
    "# Bag of Words Model\n",
    "\n",
    "from sklearn.feature_extraction.text import CountVectorizer, TfidfVectorizer\n",
    "\n",
    "# Set up CountVectorizer to tokenize by unigrams\n",
    "vectorizer = CountVectorizer(ngram_range=(1,1), stop_words='english')\n",
    "\n",
    "# Transform tweet data from the list of cleaned tweets\n",
    "bow_train = vectorizer.fit_transform(train_tweets_clean)\n",
    "bow_test = vectorizer.transform(test_tweets_clean)\n",
    "\n",
    "# Create BOW data frame\n",
    "#bow_df = pd.DataFrame(count_data.toarray(), columns=vectorizer.get_feature_names())\n"
   ]
  },
  {
   "cell_type": "code",
   "execution_count": 651,
   "id": "eb58df3c-3155-4830-b453-7d1e15b936fb",
   "metadata": {},
   "outputs": [],
   "source": [
    "# TF IDF\n",
    "# With smoothing\n",
    "tfidf_vectorizer = TfidfVectorizer(ngram_range=(1,1))\n",
    "\n",
    "tfidf_train = tfidf_vectorizer.fit_transform(train_tweets_clean)\n",
    "#tfidf_df = pd.DataFrame(tfidf_train.toarray(), columns=tfidf_vectorizer.get_feature_names())\n",
    "\n",
    "tfidf_test = tfidf_vectorizer.transform(test_tweets_clean)"
   ]
  },
  {
   "cell_type": "code",
   "execution_count": 653,
   "id": "257b1eeb-5126-40f6-898d-7cf0065ee5bc",
   "metadata": {},
   "outputs": [],
   "source": [
    "model_Lin = LinearSVC(random_state=500)\n",
    "model_Lin.fit(tfidf_train, train_labels)\n",
    "pred_Lin = model_Lin.predict(tfidf_test)\n",
    "\n",
    "pred_df.pop('Label')\n",
    "\n",
    "pred_df['Label'] = pred_Lin.tolist()\n",
    "\n",
    "pred_df.to_csv('LinSVC.txt', index=False)"
   ]
  },
  {
   "cell_type": "code",
   "execution_count": 463,
   "id": "afed43cf-ba91-4f96-85b0-5966248af83a",
   "metadata": {},
   "outputs": [],
   "source": [
    "model_nb = MultinomialNB()\n",
    "model_nb.fit(tfidf_train, train_labels)\n",
    "pred_nb = model_nb.predict(tfidf_test)\n",
    "\n",
    "pred_df.pop('Label')\n",
    "\n",
    "pred_df['Label'] = pred_nb.tolist()\n",
    "\n",
    "pred_df.to_csv('naive_bayes.txt', index=False)"
   ]
  },
  {
   "cell_type": "code",
   "execution_count": 587,
   "id": "50b2b729-2bd6-46d4-a437-ac04087eb08d",
   "metadata": {},
   "outputs": [],
   "source": [
    "model_rf = RandomForestClassifier(random_state=500)\n",
    "model_rf.fit(tfidf_train, train_labels)\n",
    "pred_rf = model_rf.predict(tfidf_test)"
   ]
  },
  {
   "cell_type": "code",
   "execution_count": 589,
   "id": "8bc2da45-cfbc-457b-adfa-2f54bc14c3fd",
   "metadata": {},
   "outputs": [],
   "source": [
    "#pred_df.pop('Label')"
   ]
  },
  {
   "cell_type": "code",
   "execution_count": 590,
   "id": "82081186-467f-41cf-9478-4801f5a327c7",
   "metadata": {},
   "outputs": [],
   "source": [
    "pred_df['Label'] = pred_rf.tolist()"
   ]
  },
  {
   "cell_type": "code",
   "execution_count": 591,
   "id": "59c203e0-d638-40e6-b91e-42c0ce62c0bb",
   "metadata": {},
   "outputs": [],
   "source": [
    "pred_df.to_csv('pred_rf_tfidf_4.txt', index=False)"
   ]
  },
  {
   "cell_type": "code",
   "execution_count": 351,
   "id": "12abb6bd-37c4-4919-b3f8-dd25eacd5a22",
   "metadata": {},
   "outputs": [],
   "source": [
    "model_svm = svm.SVC()\n",
    "model_svm.fit(tfidf_train, train_labels)\n",
    "pred_svm = model_svm.predict(tfidf_test)"
   ]
  },
  {
   "cell_type": "code",
   "execution_count": 355,
   "id": "d0e3de86-206c-4713-a88e-04702e5f9eaa",
   "metadata": {},
   "outputs": [],
   "source": [
    "pred_df['Label'] = pred_svm.tolist()"
   ]
  },
  {
   "cell_type": "code",
   "execution_count": 366,
   "id": "3a1ef4a8-9e1f-46cf-b84e-d8d1c0a6e717",
   "metadata": {},
   "outputs": [],
   "source": [
    "pred_df.to_csv('pred_svm_tfidf.txt', index=False)"
   ]
  },
  {
   "cell_type": "code",
   "execution_count": 595,
   "id": "44d33306-93bf-4749-a8c0-155cd2c11389",
   "metadata": {
    "tags": []
   },
   "outputs": [],
   "source": [
    "# Initialize Model\n",
    "\n",
    "from sklearn import svm\n",
    "\n",
    "model_svm = svm.SVC(random_state=500)"
   ]
  },
  {
   "cell_type": "code",
   "execution_count": 596,
   "id": "54d2dc9c-cd28-44a9-8bf1-b2f8cd8bbc23",
   "metadata": {
    "tags": []
   },
   "outputs": [
    {
     "data": {
      "text/plain": [
       "SVC(random_state=500)"
      ]
     },
     "execution_count": 596,
     "metadata": {},
     "output_type": "execute_result"
    }
   ],
   "source": [
    "# Train the model\n",
    "model_svm.fit(tfidf_train, train_labels)"
   ]
  },
  {
   "cell_type": "code",
   "execution_count": 597,
   "id": "86bd027a-3205-4d41-8b14-302e15ed17ab",
   "metadata": {
    "tags": []
   },
   "outputs": [],
   "source": [
    "# Predict using model\n",
    "pred_svm = model_svm.predict(tfidf_test)"
   ]
  },
  {
   "cell_type": "code",
   "execution_count": 600,
   "id": "de2f994c-6826-4ad7-a0d8-ae152c70229e",
   "metadata": {},
   "outputs": [],
   "source": [
    "#test_pred_labels.pop('Label')"
   ]
  },
  {
   "cell_type": "code",
   "execution_count": 601,
   "id": "aae18e2b-5c7f-4817-982e-b0a5000ce46b",
   "metadata": {},
   "outputs": [],
   "source": [
    "test_pred_labels['Label'] = pred_svm.tolist()"
   ]
  },
  {
   "cell_type": "code",
   "execution_count": 602,
   "id": "10823565-7109-4cfe-8e56-a027fb89fced",
   "metadata": {},
   "outputs": [],
   "source": [
    "test_pred_labels.to_csv('svm_rs500.txt', index=False)"
   ]
  },
  {
   "cell_type": "code",
   "execution_count": null,
   "id": "8e489b5e-6a8d-431d-bfb7-29fcaee266d0",
   "metadata": {},
   "outputs": [],
   "source": [
    "# Predict using Random Forest and Bag of Words"
   ]
  },
  {
   "cell_type": "code",
   "execution_count": 134,
   "id": "204983be-88d0-4c27-b196-57c3808ccd06",
   "metadata": {},
   "outputs": [],
   "source": [
    "from sklearn.ensemble import RandomForestClassifier\n",
    "\n",
    "model_rf = RandomForestClassifier()\n",
    "model_rf.fit(bow_train, train_labels)\n",
    "pred_rf = model_rf.predict(bow_test)"
   ]
  },
  {
   "cell_type": "code",
   "execution_count": 136,
   "id": "0e0401b3-6bb2-4883-ba69-bddb50be428d",
   "metadata": {},
   "outputs": [],
   "source": [
    "pred_df = test_pred_labels"
   ]
  },
  {
   "cell_type": "code",
   "execution_count": 143,
   "id": "8554e1ec-eecd-48ec-bda1-f6ccb3a6bf74",
   "metadata": {},
   "outputs": [],
   "source": [
    "pred_df['Label'] = pred_rf.tolist()"
   ]
  },
  {
   "cell_type": "code",
   "execution_count": 145,
   "id": "13121522-18e5-4085-aa4d-3c0936ce475c",
   "metadata": {},
   "outputs": [],
   "source": [
    "#pred_df.to_csv('pred_rf_bow.txt', index=False)"
   ]
  },
  {
   "cell_type": "code",
   "execution_count": 246,
   "id": "135a9569-ede0-43ca-9de6-9e43ebf507ef",
   "metadata": {},
   "outputs": [],
   "source": [
    "# Random Forest and TF IDF\n",
    "\n",
    "model_rf.fit(tfidf_train, train_labels)\n",
    "pred_rf_tfidf_4 = model_rf.predict(tfidf_test)"
   ]
  },
  {
   "cell_type": "code",
   "execution_count": 247,
   "id": "3ea9ae9e-4920-49d6-a3ba-ae858ae01e86",
   "metadata": {},
   "outputs": [],
   "source": [
    "#pred_df.pop('Label')"
   ]
  },
  {
   "cell_type": "code",
   "execution_count": 248,
   "id": "48acf270-f05d-4612-845d-df3f2ca17d7a",
   "metadata": {},
   "outputs": [],
   "source": [
    "pred_df['Label'] = pred_rf_tfidf_2.tolist()"
   ]
  },
  {
   "cell_type": "code",
   "execution_count": 249,
   "id": "07c89f41-421f-4e0e-a5dd-d812cee92756",
   "metadata": {},
   "outputs": [],
   "source": [
    "pred_df.to_csv('pred_rf_tfidf_2.txt', index=False)"
   ]
  },
  {
   "cell_type": "code",
   "execution_count": null,
   "id": "7ea6bf44-4d81-45e9-9e87-673a004c15dc",
   "metadata": {},
   "outputs": [],
   "source": []
  },
  {
   "cell_type": "code",
   "execution_count": 110,
   "id": "4c5271e9-e2ad-4b4d-a9d4-9f6309a20d5f",
   "metadata": {},
   "outputs": [],
   "source": [
    "# Splitting into training and validation sets to assess performance"
   ]
  },
  {
   "cell_type": "code",
   "execution_count": 133,
   "id": "37cd6cb6-ceef-44d5-a4e9-826323bf2229",
   "metadata": {},
   "outputs": [
    {
     "data": {
      "text/plain": [
       "3200"
      ]
     },
     "execution_count": 133,
     "metadata": {},
     "output_type": "execute_result"
    }
   ],
   "source": [
    "len(train_labels)"
   ]
  },
  {
   "cell_type": "code",
   "execution_count": 482,
   "id": "9f7b7560-8416-431f-93f1-9d745cfd2e0a",
   "metadata": {},
   "outputs": [],
   "source": [
    "# Oversample 1 group\n",
    "\n",
    "train_labels_oversample = []\n",
    "train_tweets_oversample = []\n",
    "\n",
    "for i in range(len(train_labels)):\n",
    "    if train_labels[i] == 0:\n",
    "        train_labels_oversample.append(train_labels[i])\n",
    "        train_tweets_oversample.append(train_tweets_clean[i])\n",
    "        \n",
    "    if train_labels[i] == 1:\n",
    "        train_labels_oversample.append(train_labels[i])\n",
    "        train_tweets_oversample.append(train_tweets_clean[i])\n",
    "        train_labels_oversample.append(train_labels[i])  \n",
    "        train_tweets_oversample.append(train_tweets_clean[i])\n",
    "        "
   ]
  },
  {
   "cell_type": "code",
   "execution_count": 556,
   "id": "b45dd099-e098-421d-9ac3-cd2fb8e8d7c6",
   "metadata": {},
   "outputs": [],
   "source": [
    "# Undersample\n",
    "\n",
    "train_labels_undersample = []\n",
    "train_tweets_undersample = []\n",
    "\n",
    "for i in range(int(.4*len(train_labels))):\n",
    "    if train_labels[i] == 1:\n",
    "        train_labels_undersample.append(train_labels[i])\n",
    "        train_tweets_undersample.append(train_tweets_clean[i])\n",
    "\n",
    "for i in range(int(0.4*len(train_labels)),len(train_labels)):\n",
    "    train_labels_undersample.append(train_labels[i])\n",
    "    train_tweets_undersample.append(train_tweets_clean[i])\n",
    "        \n"
   ]
  },
  {
   "cell_type": "code",
   "execution_count": 557,
   "id": "75a7a811-3f20-42f8-8f6a-d3f15fe22037",
   "metadata": {},
   "outputs": [
    {
     "data": {
      "text/plain": [
       "1021"
      ]
     },
     "execution_count": 557,
     "metadata": {},
     "output_type": "execute_result"
    }
   ],
   "source": [
    "train_labels_undersample.count(1)"
   ]
  },
  {
   "cell_type": "code",
   "execution_count": 558,
   "id": "215b9a29-0f77-4b77-ae85-287738d9e81f",
   "metadata": {},
   "outputs": [
    {
     "data": {
      "text/plain": [
       "1306"
      ]
     },
     "execution_count": 558,
     "metadata": {},
     "output_type": "execute_result"
    }
   ],
   "source": [
    "train_labels_undersample.count(0)"
   ]
  },
  {
   "cell_type": "code",
   "execution_count": 559,
   "id": "a53e3712-ec9d-4b68-bc0e-ae51d14667c3",
   "metadata": {},
   "outputs": [],
   "source": [
    "from sklearn.feature_extraction.text import TfidfVectorizer\n",
    "tfidf_vec = TfidfVectorizer()\n",
    "\n",
    "tfidf_train = tfidf_vec.fit_transform(train_tweets_undersample)\n",
    "tfidf_test = tfidf_vec.transform(test_tweets_clean)"
   ]
  },
  {
   "cell_type": "code",
   "execution_count": 560,
   "id": "c2993e20-d0ad-4f9b-894e-cd4dc98e0835",
   "metadata": {},
   "outputs": [],
   "source": [
    "model_nb = MultinomialNB()\n",
    "model_nb.fit(tfidf_train, train_labels_undersample)\n",
    "pred_nb = model_nb.predict(tfidf_test)\n",
    "\n",
    "pred_df.pop('Label')\n",
    "\n",
    "pred_df['Label'] = pred_nb.tolist()\n",
    "\n",
    "pred_df.to_csv('NB_undersample.txt', index=False)"
   ]
  },
  {
   "cell_type": "code",
   "execution_count": 555,
   "id": "e8ba7787-0f69-43fb-be29-c0395a69e9f7",
   "metadata": {},
   "outputs": [],
   "source": [
    "model_rf = RandomForestClassifier()\n",
    "model_rf.fit(tfidf_train, train_labels_undersample)\n",
    "pred_rf = model_rf.predict(tfidf_test)\n",
    "\n",
    "pred_df.pop('Label')\n",
    "\n",
    "pred_df['Label'] = pred_nb.tolist()\n",
    "\n",
    "pred_df.to_csv('rf_undersample.txt', index=False)"
   ]
  },
  {
   "cell_type": "code",
   "execution_count": 547,
   "id": "043c7f32-f91f-4c97-a320-af4c55ecdeca",
   "metadata": {},
   "outputs": [],
   "source": [
    "from sklearn.feature_extraction.text import TfidfVectorizer\n",
    "\n",
    "tfidf_vec = TfidfVectorizer()\n",
    "\n",
    "tfidf_train = tfidf_vec.fit_transform(train_tweets_oversample)\n",
    "tfidf_test = tfidf_vec.transform(test_tweets_clean)"
   ]
  },
  {
   "cell_type": "code",
   "execution_count": 549,
   "id": "193ae42f-e6dc-4dae-9408-a70c26ca2a89",
   "metadata": {},
   "outputs": [],
   "source": [
    "model_nb = MultinomialNB()\n",
    "model_nb.fit(tfidf_train, train_labels_oversample)\n",
    "pred_nb = model_nb.predict(tfidf_test)\n",
    "\n",
    "#pred_df.pop('Label')\n",
    "\n",
    "pred_df['Label'] = pred_nb.tolist()\n",
    "\n",
    "pred_df.to_csv('NB_oversample.txt', index=False)"
   ]
  },
  {
   "cell_type": "code",
   "execution_count": 474,
   "id": "181b5a11-e1ce-4ed8-82f4-0592139bda12",
   "metadata": {},
   "outputs": [],
   "source": [
    "N = len(train_labels_oversample)\n",
    "_80 = int(N*.80)\n",
    "\n",
    "labels_training = train_labels_oversample[:_80]\n",
    "tweets_training = train_tweets_oversample[:_80]\n",
    "\n",
    "labels_validation = train_labels_oversample[_80:]\n",
    "tweets_validation = train_tweets_oversample[_80:]\n"
   ]
  },
  {
   "cell_type": "code",
   "execution_count": 475,
   "id": "e440455a-1357-42e6-afcc-e0a61082e2c9",
   "metadata": {},
   "outputs": [],
   "source": [
    "# Create features\n",
    "\n",
    "from sklearn.feature_extraction.text import TfidfVectorizer\n",
    "\n",
    "tfidf_vec = TfidfVectorizer()\n",
    "\n",
    "x_training = tfidf_vec.fit_transform(tweets_training)\n",
    "x_validation = tfidf_vec.transform(tweets_validation) "
   ]
  },
  {
   "cell_type": "code",
   "execution_count": 476,
   "id": "f222e4fc-9014-4929-b9cb-70b27bb2d382",
   "metadata": {
    "tags": []
   },
   "outputs": [
    {
     "name": "stdout",
     "output_type": "stream",
     "text": [
      "Confusion matrix, without normalization\n"
     ]
    },
    {
     "data": {
      "text/plain": [
       "0.6220675105485232"
      ]
     },
     "execution_count": 476,
     "metadata": {},
     "output_type": "execute_result"
    },
    {
     "data": {
      "image/png": "[encoded data removed]",
      "text/plain": [
       "<Figure size 432x288 with 2 Axes>"
      ]
     },
     "metadata": {
      "needs_background": "light"
     },
     "output_type": "display_data"
    }
   ],
   "source": [
    "# Let's try Naive Bayes model\n",
    "\n",
    "from sklearn.naive_bayes import GaussianNB\n",
    "\n",
    "gnb = GaussianNB()\n",
    "\n",
    "gnb_model = gnb.fit(x_training.toarray(), labels_training)\n",
    "gnb_pred = gnb_model.predict(x_validation.toarray())\n",
    "\n",
    "classes=list(set(labels_validation))\n",
    "cm = confusion_matrix(labels_validation, gnb_pred, labels=classes)\n",
    "plot_confusion_matrix(cm, classes=classes, title='GNB')\n",
    "\n",
    "f1_score(labels_validation, gnb_pred, average='macro')"
   ]
  },
  {
   "cell_type": "code",
   "execution_count": 221,
   "id": "b61c48b0-2b02-4794-a801-cc0d26fbaacd",
   "metadata": {},
   "outputs": [],
   "source": [
    "# Initialize model\n",
    "\n",
    "from sklearn import svm\n",
    "model_svm = svm.SVC()"
   ]
  },
  {
   "cell_type": "code",
   "execution_count": 222,
   "id": "fb71053f-7f6d-4203-b64c-7b724043ef7d",
   "metadata": {},
   "outputs": [
    {
     "data": {
      "text/plain": [
       "SVC()"
      ]
     },
     "execution_count": 222,
     "metadata": {},
     "output_type": "execute_result"
    }
   ],
   "source": [
    "# Train model: SVM\n",
    "\n",
    "model_svm.fit(x_training,labels_training)"
   ]
  },
  {
   "cell_type": "code",
   "execution_count": 223,
   "id": "51e02f38-83cc-4418-bb9f-d847b2e11564",
   "metadata": {},
   "outputs": [],
   "source": [
    "# Make predictions with model\n",
    "\n",
    "pred_svm = model_svm.predict(x_validation)"
   ]
  },
  {
   "cell_type": "code",
   "execution_count": 194,
   "id": "cc76f4bc-ca97-453d-a519-caf0c14f70ab",
   "metadata": {
    "tags": []
   },
   "outputs": [],
   "source": [
    "# Confusion Matrix\n",
    "\n",
    "from sklearn.metrics import confusion_matrix\n",
    "import matplotlib.pyplot as plt\n",
    "import itertools\n",
    "import numpy as np\n",
    "\n",
    "def plot_confusion_matrix(cm, classes,\n",
    "                          normalize=False,\n",
    "                          title='Confusion matrix',\n",
    "                          cmap=plt.cm.Blues):\n",
    "    \"\"\"\n",
    "    This function prints and plots the confusion matrix.\n",
    "    Normalization can be applied by setting `normalize=True`.\n",
    "    \"\"\"\n",
    "    if normalize:\n",
    "        cm = cm.astype('float') / cm.sum(axis=1)[:, np.newaxis]\n",
    "        print(\"Normalized confusion matrix\")\n",
    "    else:\n",
    "        print('Confusion matrix, without normalization')\n",
    "        \n",
    "    plt.imshow(cm, interpolation='nearest', cmap=cmap)\n",
    "    plt.title(title)\n",
    "    plt.colorbar()\n",
    "    tick_marks = np.arange(len(classes))\n",
    "    plt.xticks(tick_marks, classes, rotation=45)\n",
    "    plt.yticks(tick_marks, classes)\n",
    "\n",
    "    fmt = '.2f' if normalize else 'd'\n",
    "    thresh = cm.max() / 2.\n",
    "    for i, j in itertools.product(range(cm.shape[0]), range(cm.shape[1])):\n",
    "        plt.text(j, i, format(cm[i, j], fmt),\n",
    "                 horizontalalignment=\"center\",\n",
    "                 color=\"white\" if cm[i, j] > thresh else \"black\")\n",
    "\n",
    "    plt.ylabel('True label')\n",
    "    plt.xlabel('Predicted label')\n",
    "    plt.tight_layout()"
   ]
  },
  {
   "cell_type": "code",
   "execution_count": 224,
   "id": "1c8fda4a-b7f0-460b-8765-702ede3c0bbc",
   "metadata": {
    "tags": []
   },
   "outputs": [
    {
     "name": "stdout",
     "output_type": "stream",
     "text": [
      "Confusion matrix, without normalization\n"
     ]
    },
    {
     "data": {
      "image/png": "[encoded data removed]",
      "text/plain": [
       "<Figure size 432x288 with 2 Axes>"
      ]
     },
     "metadata": {
      "needs_background": "light"
     },
     "output_type": "display_data"
    }
   ],
   "source": [
    "classes=list(set(labels_validation))\n",
    "cm = confusion_matrix(labels_validation, pred_svm, labels=classes)\n",
    "plot_confusion_matrix(cm, classes=classes, title='SVM')"
   ]
  },
  {
   "cell_type": "code",
   "execution_count": 486,
   "id": "6bf7e248-0e56-4f37-825f-2f3c32ba00d4",
   "metadata": {
    "tags": []
   },
   "outputs": [],
   "source": [
    "# Training Random Forest model\n",
    "\n",
    "from sklearn.ensemble import RandomForestClassifier\n",
    "\n",
    "model_rf = RandomForestClassifier()\n",
    "\n",
    "model_rf.fit(x_training, labels_training)\n",
    "\n",
    "pred_rf = model_rf.predict(x_validation)"
   ]
  },
  {
   "cell_type": "code",
   "execution_count": 487,
   "id": "c97235f5-b7a2-4d52-bc31-f884c72e4f3f",
   "metadata": {
    "tags": []
   },
   "outputs": [
    {
     "name": "stdout",
     "output_type": "stream",
     "text": [
      "Confusion matrix, without normalization\n"
     ]
    },
    {
     "data": {
      "image/png": "[encoded data removed]",
      "text/plain": [
       "<Figure size 432x288 with 2 Axes>"
      ]
     },
     "metadata": {
      "needs_background": "light"
     },
     "output_type": "display_data"
    }
   ],
   "source": [
    "classes=list(set(labels_validation))\n",
    "cm = confusion_matrix(labels_validation, pred_rf, labels=classes)\n",
    "plot_confusion_matrix(cm, classes=classes, title='Random forests')"
   ]
  },
  {
   "cell_type": "code",
   "execution_count": 227,
   "id": "3aeb87f0-d506-44c8-99b3-d181190b27cf",
   "metadata": {},
   "outputs": [],
   "source": [
    "from sklearn.metrics import f1_score"
   ]
  },
  {
   "cell_type": "code",
   "execution_count": 228,
   "id": "55f5672e-965c-4da2-aa15-b8e1a1f572fc",
   "metadata": {},
   "outputs": [
    {
     "data": {
      "text/plain": [
       "0.6422224928872357"
      ]
     },
     "execution_count": 228,
     "metadata": {},
     "output_type": "execute_result"
    }
   ],
   "source": [
    "#0.6380458543032891\n",
    "\n",
    "f1_score(labels_validation, pred_rf, average='macro')"
   ]
  },
  {
   "cell_type": "code",
   "execution_count": 229,
   "id": "e0c6d8ec-ce5e-4a65-aaf7-9aab09de17ff",
   "metadata": {},
   "outputs": [
    {
     "data": {
      "text/plain": [
       "0.609049773755656"
      ]
     },
     "execution_count": 229,
     "metadata": {},
     "output_type": "execute_result"
    }
   ],
   "source": [
    "#0.6112719146957812\n",
    "\n",
    "f1_score(labels_validation, pred_svm, average='macro')"
   ]
  },
  {
   "cell_type": "code",
   "execution_count": 230,
   "id": "19f7e621-68e5-4514-bec1-cfc8c55b84d7",
   "metadata": {
    "tags": []
   },
   "outputs": [],
   "source": [
    "# Let's try Bag of Words training\n",
    "\n",
    "from sklearn.feature_extraction.text import CountVectorizer\n",
    "\n",
    "vectorizer = CountVectorizer(ngram_range=(1,1), stop_words='english')\n",
    "\n",
    "bow_training = vectorizer.fit_transform(tweets_training)\n",
    "bow_validation = vectorizer.transform(tweets_validation)\n"
   ]
  },
  {
   "cell_type": "code",
   "execution_count": 231,
   "id": "ea693bda-cee1-431f-b268-ee7fa03c70d4",
   "metadata": {},
   "outputs": [
    {
     "data": {
      "text/plain": [
       "SVC()"
      ]
     },
     "execution_count": 231,
     "metadata": {},
     "output_type": "execute_result"
    }
   ],
   "source": [
    "model_svm = svm.SVC()\n",
    "model_svm.fit(bow_training,labels_training)"
   ]
  },
  {
   "cell_type": "code",
   "execution_count": 232,
   "id": "848607af-58ca-4a4a-9c87-10af298c0c3f",
   "metadata": {},
   "outputs": [],
   "source": [
    "pred_svm = model_svm.predict(bow_validation)"
   ]
  },
  {
   "cell_type": "code",
   "execution_count": 233,
   "id": "ace76101-f4bc-4930-a38b-1c6e1ed60381",
   "metadata": {
    "tags": []
   },
   "outputs": [
    {
     "name": "stdout",
     "output_type": "stream",
     "text": [
      "Confusion matrix, without normalization\n"
     ]
    },
    {
     "data": {
      "image/png": "[encoded data removed]",
      "text/plain": [
       "<Figure size 432x288 with 2 Axes>"
      ]
     },
     "metadata": {
      "needs_background": "light"
     },
     "output_type": "display_data"
    }
   ],
   "source": [
    "classes=list(set(labels_validation))\n",
    "cm = confusion_matrix(labels_validation, pred_svm, labels=classes)\n",
    "plot_confusion_matrix(cm, classes=classes, title='SVM')"
   ]
  },
  {
   "cell_type": "code",
   "execution_count": 234,
   "id": "b0b3a2c8-9600-4cee-82a9-6fdcf5fdf06f",
   "metadata": {
    "tags": []
   },
   "outputs": [
    {
     "data": {
      "text/plain": [
       "0.6014843555974675"
      ]
     },
     "execution_count": 234,
     "metadata": {},
     "output_type": "execute_result"
    }
   ],
   "source": [
    "f1_score(labels_validation, pred_svm, average='macro')"
   ]
  },
  {
   "cell_type": "code",
   "execution_count": null,
   "id": "b8b21f85-7862-4d6a-a9a2-0db2608e32fa",
   "metadata": {
    "tags": []
   },
   "outputs": [],
   "source": []
  },
  {
   "cell_type": "code",
   "execution_count": 236,
   "id": "64e5ee5c-8f04-4307-b53a-aeeae18266af",
   "metadata": {
    "tags": []
   },
   "outputs": [
    {
     "name": "stdout",
     "output_type": "stream",
     "text": [
      "Confusion matrix, without normalization\n"
     ]
    },
    {
     "data": {
      "image/png": "[encoded data removed]",
      "text/plain": [
       "<Figure size 432x288 with 2 Axes>"
      ]
     },
     "metadata": {
      "needs_background": "light"
     },
     "output_type": "display_data"
    }
   ],
   "source": [
    "classes=list(set(labels_validation))\n",
    "cm = confusion_matrix(labels_validation, pred_rf_bow, labels=classes)\n",
    "plot_confusion_matrix(cm, classes=classes, title='RF')"
   ]
  },
  {
   "cell_type": "code",
   "execution_count": 237,
   "id": "cf2da3ea-c772-4277-8d01-2c9879872f31",
   "metadata": {
    "tags": []
   },
   "outputs": [
    {
     "data": {
      "text/plain": [
       "0.6560386473429952"
      ]
     },
     "execution_count": 237,
     "metadata": {},
     "output_type": "execute_result"
    }
   ],
   "source": [
    "f1_score(labels_validation, pred_rf_bow, average='macro')"
   ]
  },
  {
   "cell_type": "code",
   "execution_count": 294,
   "id": "2cfb8a8b-3360-419c-bb1c-08405b91a303",
   "metadata": {},
   "outputs": [],
   "source": [
    "# Splitting validation again"
   ]
  },
  {
   "cell_type": "code",
   "execution_count": 564,
   "id": "40c40d5c-5eb9-4da0-8e13-da1b13262e26",
   "metadata": {},
   "outputs": [],
   "source": [
    "N = len(train_labels)\n",
    "_80 = int(N*.80)\n",
    "\n",
    "labels_training = train_labels[:_80]\n",
    "tweets_training = train_tweets_clean[:_80]\n",
    "\n",
    "labels_validation = train_labels[_80:]\n",
    "tweets_validation = train_tweets_clean[_80:]"
   ]
  },
  {
   "cell_type": "code",
   "execution_count": 565,
   "id": "524cfb02-82f2-4335-9662-ee8d3bb4bc30",
   "metadata": {},
   "outputs": [],
   "source": [
    "from sklearn.feature_extraction.text import TfidfVectorizer\n",
    "tfidf_vec = TfidfVectorizer(ngram_range=(1,1))\n",
    "\n",
    "x_training = tfidf_vec.fit_transform(tweets_training)\n",
    "x_validation = tfidf_vec.transform(tweets_validation) "
   ]
  },
  {
   "cell_type": "code",
   "execution_count": 572,
   "id": "a2385e52-b7bf-4c72-b824-a35d45f82b49",
   "metadata": {},
   "outputs": [
    {
     "name": "stdout",
     "output_type": "stream",
     "text": [
      "f1 score MACRO: \n",
      "0.6529459241323647\n",
      "f1 score MICRO: \n",
      "0.73125\n",
      "\n",
      "\n",
      "Confusion matrix, without normalization\n"
     ]
    },
    {
     "data": {
      "image/png": "[encoded data removed]",
      "text/plain": [
       "<Figure size 432x288 with 2 Axes>"
      ]
     },
     "metadata": {
      "needs_background": "light"
     },
     "output_type": "display_data"
    }
   ],
   "source": [
    "# Random Forest Classifier\n",
    "\n",
    "rf_model = RandomForestClassifier(random_state=500)\n",
    "rf_model.fit(x_training, labels_training)\n",
    "rf_x_pred = rf_model.predict(x_validation)\n",
    "\n",
    "print('f1 score MACRO: ')\n",
    "print(f1_score(labels_validation, rf_x_pred, average='macro'))\n",
    "print('f1 score MICRO: ')\n",
    "print(f1_score(labels_validation, rf_x_pred, average='micro'))\n",
    "print('\\n')\n",
    "\n",
    "classes=list(set(labels_validation))\n",
    "cm = confusion_matrix(labels_validation, rf_x_pred, labels=classes)\n",
    "plot_confusion_matrix(cm, classes=classes, title='RF')\n"
   ]
  },
  {
   "cell_type": "code",
   "execution_count": 603,
   "id": "1813a4a2-6afd-4690-966b-18acfb0faacf",
   "metadata": {},
   "outputs": [
    {
     "name": "stdout",
     "output_type": "stream",
     "text": [
      "f1 score MACRO: \n",
      "0.6244957829116244\n",
      "f1 score MICRO: \n",
      "0.75\n",
      "\n",
      "\n",
      "Confusion matrix, without normalization\n"
     ]
    },
    {
     "data": {
      "image/png": "[encoded data removed]",
      "text/plain": [
       "<Figure size 432x288 with 2 Axes>"
      ]
     },
     "metadata": {
      "needs_background": "light"
     },
     "output_type": "display_data"
    }
   ],
   "source": [
    "# SVM\n",
    "\n",
    "svm_model = svm.SVC(random_state=500)\n",
    "svm_model.fit(x_training, labels_training)\n",
    "svm_x_pred = svm_model.predict(x_validation)\n",
    "\n",
    "print('f1 score MACRO: ')\n",
    "print(f1_score(labels_validation, svm_x_pred, average='macro'))\n",
    "print('f1 score MICRO: ')\n",
    "print(f1_score(labels_validation, svm_x_pred, average='micro'))\n",
    "print('\\n')\n",
    "\n",
    "classes=list(set(labels_validation))\n",
    "cm = confusion_matrix(labels_validation, svm_x_pred, labels=classes)\n",
    "plot_confusion_matrix(cm, classes=classes, title='SVM')\n"
   ]
  },
  {
   "cell_type": "code",
   "execution_count": 604,
   "id": "f43a5d81-1547-4ddc-b316-04e7c280add0",
   "metadata": {},
   "outputs": [
    {
     "name": "stdout",
     "output_type": "stream",
     "text": [
      "f1 score MACRO: \n",
      "0.6852056240702529\n",
      "f1 score MICRO: \n",
      "0.74375\n",
      "\n",
      "\n",
      "Confusion matrix, without normalization\n"
     ]
    },
    {
     "data": {
      "image/png": "[encoded data removed]",
      "text/plain": [
       "<Figure size 432x288 with 2 Axes>"
      ]
     },
     "metadata": {
      "needs_background": "light"
     },
     "output_type": "display_data"
    }
   ],
   "source": [
    "# SVM\n",
    "from sklearn.svm import LinearSVC\n",
    "\n",
    "svmLin_model = svm.LinearSVC(random_state=500)\n",
    "svmLin_model.fit(x_training, labels_training)\n",
    "svmLin_pred = svmLin_model.predict(x_validation)\n",
    "\n",
    "print('f1 score MACRO: ')\n",
    "print(f1_score(labels_validation, svmLin_pred, average='macro'))\n",
    "print('f1 score MICRO: ')\n",
    "print(f1_score(labels_validation, svmLin_pred, average='micro'))\n",
    "print('\\n')\n",
    "\n",
    "classes=list(set(labels_validation))\n",
    "cm = confusion_matrix(labels_validation, svmLin_pred, labels=classes)\n",
    "plot_confusion_matrix(cm, classes=classes, title='SVM')\n"
   ]
  },
  {
   "cell_type": "code",
   "execution_count": 576,
   "id": "1245fd08-2015-4d2b-aeda-4e0a11545bbd",
   "metadata": {},
   "outputs": [
    {
     "name": "stdout",
     "output_type": "stream",
     "text": [
      "f1 score MACRO: \n",
      "0.5279588336192109\n",
      "f1 score MICRO: \n",
      "0.73125\n",
      "\n",
      "\n",
      "Confusion matrix, without normalization\n"
     ]
    },
    {
     "data": {
      "image/png": "[encoded data removed]",
      "text/plain": [
       "<Figure size 432x288 with 2 Axes>"
      ]
     },
     "metadata": {
      "needs_background": "light"
     },
     "output_type": "display_data"
    }
   ],
   "source": [
    "# Naive Bayes\n",
    "\n",
    "from sklearn.naive_bayes import MultinomialNB\n",
    "\n",
    "model_nb = MultinomialNB()\n",
    "model_nb.fit(x_training, labels_training)\n",
    "pred_nb = model_nb.predict(x_validation)\n",
    "\n",
    "print('f1 score MACRO: ')\n",
    "print(f1_score(labels_validation, pred_nb, average='macro'))\n",
    "print('f1 score MICRO: ')\n",
    "print(f1_score(labels_validation, pred_nb, average='micro'))\n",
    "print('\\n')\n",
    "\n",
    "classes=list(set(labels_validation))\n",
    "cm = confusion_matrix(labels_validation, pred_nb, labels=classes)\n",
    "plot_confusion_matrix(cm, classes=classes, title='MultinomialNB')"
   ]
  },
  {
   "cell_type": "code",
   "execution_count": 522,
   "id": "601fc08a-cc58-49ea-bae3-5044e74011f6",
   "metadata": {},
   "outputs": [
    {
     "name": "stdout",
     "output_type": "stream",
     "text": [
      "f1 score MACRO: \n",
      "0.5819517681599743\n",
      "f1 score MICRO: \n",
      "0.5924528301886792\n",
      "\n",
      "\n",
      "Confusion matrix, without normalization\n"
     ]
    },
    {
     "data": {
      "image/png": "[encoded data removed]",
      "text/plain": [
       "<Figure size 432x288 with 2 Axes>"
      ]
     },
     "metadata": {
      "needs_background": "light"
     },
     "output_type": "display_data"
    }
   ],
   "source": [
    "# Same outcome for Bernoulli NB\n",
    "\n",
    "model_nbg = GaussianNB()\n",
    "model_nbg.fit(x_training.toarray(), labels_training)\n",
    "pred_nbg = model_nbg.predict(x_validation.toarray())\n",
    "\n",
    "print('f1 score MACRO: ')\n",
    "print(f1_score(labels_validation, pred_nbg, average='macro'))\n",
    "print('f1 score MICRO: ')\n",
    "print(f1_score(labels_validation, pred_nbg, average='micro'))\n",
    "print('\\n')\n",
    "\n",
    "classes=list(set(labels_validation))\n",
    "cm = confusion_matrix(labels_validation, pred_nbg, labels=classes)\n",
    "plot_confusion_matrix(cm, classes=classes, title='GaussianNB')"
   ]
  },
  {
   "cell_type": "code",
   "execution_count": null,
   "id": "00411a97-3f24-47d0-a2f0-79740ace710e",
   "metadata": {},
   "outputs": [],
   "source": []
  },
  {
   "cell_type": "code",
   "execution_count": null,
   "id": "e022b90d-091f-42f7-849a-fd25521c53d1",
   "metadata": {},
   "outputs": [],
   "source": []
  }
 ],
 "metadata": {
  "kernelspec": {
   "display_name": "Python 3 (ipykernel)",
   "language": "python",
   "name": "python3"
  },
  "language_info": {
   "codemirror_mode": {
    "name": "ipython",
    "version": 3
   },
   "file_extension": ".py",
   "mimetype": "text/x-python",
   "name": "python",
   "nbconvert_exporter": "python",
   "pygments_lexer": "ipython3",
   "version": "3.9.7"
  }
 },
 "nbformat": 4,
 "nbformat_minor": 5
}
